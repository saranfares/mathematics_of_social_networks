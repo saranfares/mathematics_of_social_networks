{
 "cells": [
  {
   "cell_type": "code",
   "execution_count": 1,
   "metadata": {},
   "outputs": [
    {
     "name": "stdout",
     "output_type": "stream",
     "text": [
      "working on  business.json\n",
      "working on  review.json\n",
      "working on  user.json\n"
     ]
    }
   ],
   "source": [
    "import json\n",
    "import sys\n",
    "\n",
    "import numpy as np\n",
    "\n",
    "MAIN_DIR = \"data/\"\n",
    "\n",
    "categories = [\"business\", \"review\", \"user\"]\n",
    "\n",
    "# work on businesses file\n",
    "attributes = {\n",
    "\"business\": {\"primary\": \"business_id\", \"secondary\": [\"name\", \"city\", \"state\", \"postal_code\", \"categories\", \"stars\", \"review_count\"]},\n",
    "\"review\": {\"primary\": \"review_id\", \"secondary\": [\"user_id\", \"business_id\", \"text\", \"stars\", \"useful\", \"funny\", \"cool\"]},\n",
    "\"user\": {\"primary\": \"user_id\", \"secondary\": [\"name\", \"review_count\", \"yelping_since\", \"useful\", \"funny\", \"elite\", \"friends\", \"fans\", \"average_stars\"]}\n",
    "} \n",
    "\n",
    "#business_file = open(MAIN_DIR+\"business_matrix.txt\", \"w\")\n",
    "\n",
    "dict_to_write = {\"business\": {}, \"review\": {}, \"tip\": {}, \"user\": {}}\n",
    "for item in categories:\n",
    "    file = item + \".json\"\n",
    "\n",
    "    print(\"working on \", file)\n",
    "\n",
    "    # open the input file and read in lines\n",
    "    f = open(MAIN_DIR + file , \"r\")\n",
    "    lines = f.readlines()\n",
    "\n",
    "    # figure out which attributes to keep using the attributes dict\n",
    "    attributes_to_keep = attributes[item][\"secondary\"]\n",
    "    pk = attributes[item][\"primary\"]\n",
    "\n",
    "    for line in lines:\n",
    "        # read in as json\n",
    "        # filter out to get only the attributes we want\n",
    "        l = json.loads(line)\n",
    "        dict_to_write[item][l[pk]] = {}\n",
    "        for atr in attributes_to_keep:\n",
    "            dict_to_write[item][l[pk]][atr] = l[atr]\n"
   ]
  },
  {
   "cell_type": "code",
   "execution_count": 8,
   "metadata": {},
   "outputs": [
    {
     "name": "stdout",
     "output_type": "stream",
     "text": [
      "mean review_count is : 68.45645180306884\n",
      "cutoff review_count is : 160\n",
      "original number of restaurants:  59371\n",
      "99th percentile:  700.0\n"
     ]
    }
   ],
   "source": [
    "# make lists of all of the IDs (user_id, business_id, review_id)\n",
    "list_of_businesses = dict_to_write[\"business\"].keys()\n",
    "list_of_users = dict_to_write[\"user\"].keys()\n",
    "list_of_reviews = dict_to_write[\"review\"].keys()\n",
    "\n",
    "# make a set for easier access to what businesses we are keeping\n",
    "businesses_to_keep = set()\n",
    "\n",
    "rev_counts = []\n",
    "cutoff = 160\n",
    "\n",
    "# we are only keeping restaurants that are in the 90th percentile which happens to be 160 review_counts\n",
    "for business_id in list_of_businesses:\n",
    "    info = dict_to_write[\"business\"][business_id]\n",
    "    if info[\"categories\"] is not None:\n",
    "        if info[\"categories\"].find(\"Restaurants\") != -1:\n",
    "            rev_counts.append(info[\"review_count\"])\n",
    "            businesses_to_keep.add(business_id)\n",
    "\n",
    "print(\"mean review_count is :\", np.mean(rev_counts))\n",
    "print(\"cutoff review_count is :\", cutoff)\n",
    "\n",
    "# 99th percentile\n",
    "perc_99 = np.percentile(rev_counts, 99)\n",
    "\n",
    "print(\"original number of restaurants: \", len(businesses_to_keep))\n",
    "\n",
    "print(\"99th percentile: \", perc_99)\n"
   ]
  },
  {
   "cell_type": "code",
   "execution_count": null,
   "metadata": {},
   "outputs": [],
   "source": [
    "print(len(businesses_to_keep))\n",
    "5893"
   ]
  },
  {
   "cell_type": "code",
   "execution_count": null,
   "metadata": {},
   "outputs": [],
   "source": [
    "user_review_counts = []\n",
    "users_to_keep = set()\n",
    "# find 90th percentile of restaurants\n",
    "for review_id in list_of_reviews:\n",
    "    info = dict_to_write[\"review\"][review_id]\n",
    "    user_review_count = dict_to_write[\"user\"][info[\"user_id\"]][\"review_count\"]\n",
    "    user_id = info[\"user_id\"]\n",
    "    if info[\"business_id\"] in businesses_to_keep:\n",
    "        if user_id not in users_to_keep:\n",
    "            # keep this review...\n",
    "            users_to_keep.add(user_id)\n",
    "            user_review_counts.append(user_review_count)\n",
    "        \n",
    "# 99th percentile\n",
    "perc_99 = np.percentile(user_review_counts, 99)\n",
    "\n",
    "# 75th percentile\n",
    "perc_75 = np.percentile(user_review_counts, 75)\n",
    "\n",
    "print(\"original num_users: \", len(users_to_keep))\n",
    "\n",
    "print(\"99th percentile: \", perc_99)\n",
    "\n",
    "print(\"75th percentile: \", perc_75)\n"
   ]
  },
  {
   "cell_type": "code",
   "execution_count": null,
   "metadata": {},
   "outputs": [],
   "source": [
    "len(users_to_keep)/100"
   ]
  },
  {
   "cell_type": "code",
   "execution_count": null,
   "metadata": {},
   "outputs": [],
   "source": [
    "output_file = open(MAIN_DIR+\"restaurant\"+\"_matrix.csv\", \"w\")\n",
    "output_file_header_rows = open(MAIN_DIR+\"restaurant\"+\"_row_labels_matrix.txt\", \"w\")\n",
    "output_file_header_cols = open(MAIN_DIR+\"restaurant\"+\"_col_labels_matrix.txt\", \"w\")\n",
    "output_file_header_rows.write(\"HI\")\n",
    "output_file_header_cols.write(\"hi\")\n",
    "\n",
    "users_and_their_businesses = {}\n",
    "\n",
    "users_to_keep = set()\n",
    "rev_count_cutoff = perc_99\n",
    "for review_id in list_of_reviews:\n",
    "    info = dict_to_write[\"review\"][review_id]\n",
    "    user_review_count = dict_to_write[\"user\"][info[\"user_id\"]][\"review_count\"]\n",
    "    if info[\"business_id\"] in businesses_to_keep:\n",
    "        # keep this review...\n",
    "        if user_review_count> rev_count_cutoff:\n",
    "            if info[\"user_id\"] not in users_to_keep:\n",
    "                users_to_keep.add(info[\"user_id\"])\n",
    "                users_and_their_businesses[info[\"user_id\"]] = []\n",
    "            users_and_their_businesses[info[\"user_id\"]].append(info[\"business_id\"])\n",
    "\n",
    "# write the businesses as the header\n",
    "bus_dict = {}\n",
    "bus_list = []\n",
    "count=0\n",
    "for item in businesses_to_keep:\n",
    "    bus_dict[item] = count\n",
    "    bus_list.append(item)\n",
    "    output_file_header_cols.write(item + \"\\n\")\n",
    "    count+=1\n",
    "\n",
    "num_businesses = len(bus_list)\n",
    "print(\"number of businesses kept: \", num_businesses)\n",
    "# now iterate through all the users we kept and check which businesses we need to write for them each \n",
    "print(\"number of users in matrix: \", len(users_to_keep))\n",
    "for user in users_to_keep:\n",
    "    zeroes_list = np.zeros(num_businesses)\n",
    "    line = \"\"\n",
    "    output_file_header_rows.write(user + \"\\n\")\n",
    "    for business in users_and_their_businesses[user]:\n",
    "        idx = bus_dict[business]\n",
    "        zeroes_list[idx] = 1\n",
    "\n",
    "    for item in zeroes_list:\n",
    "        if item == 0:\n",
    "            line+= (\"0,\")\n",
    "        else:\n",
    "            line+= (\"1,\")\n",
    "    count+=1\n",
    "    output_file.write(line[:-1] + '\\n')\n",
    "    "
   ]
  }
 ],
 "metadata": {
  "kernelspec": {
   "display_name": "Python 3",
   "language": "python",
   "name": "python3"
  },
  "language_info": {
   "codemirror_mode": {
    "name": "ipython",
    "version": 3
   },
   "file_extension": ".py",
   "mimetype": "text/x-python",
   "name": "python",
   "nbconvert_exporter": "python",
   "pygments_lexer": "ipython3",
   "version": "3.7.3"
  }
 },
 "nbformat": 4,
 "nbformat_minor": 2
}
